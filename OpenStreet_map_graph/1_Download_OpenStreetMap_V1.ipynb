{
 "cells": [
  {
   "cell_type": "code",
   "execution_count": 9,
   "id": "f404fb9f",
   "metadata": {},
   "outputs": [
    {
     "name": "stderr",
     "output_type": "stream",
     "text": [
      "ERROR: Could not find a version that satisfies the requirement StringIO (from versions: none)\n",
      "ERROR: No matching distribution found for StringIO\n",
      "WARNING: There was an error checking the latest version of pip.\n"
     ]
    }
   ],
   "source": [
    "#!pip install xmltodict"
   ]
  },
  {
   "cell_type": "code",
   "execution_count": 13,
   "id": "31f4a815",
   "metadata": {
    "scrolled": false
   },
   "outputs": [],
   "source": [
    "import xmltodict\n",
    "data=xmltodict.parse(open(filepath, encoding=\"UTF-8\").read())"
   ]
  },
  {
   "cell_type": "code",
   "execution_count": 15,
   "id": "e53f7016",
   "metadata": {},
   "outputs": [
    {
     "data": {
      "text/plain": [
       "odict_keys(['@version', '@generator', 'note', 'meta', 'bounds', 'node', 'way', 'relation'])"
      ]
     },
     "execution_count": 15,
     "metadata": {},
     "output_type": "execute_result"
    }
   ],
   "source": [
    "#explore\n",
    "data['osm'].keys()"
   ]
  },
  {
   "cell_type": "code",
   "execution_count": 55,
   "id": "726500a5",
   "metadata": {},
   "outputs": [],
   "source": [
    "#process to get a required nodes\n",
    "result=[]\n",
    "\n",
    "for w in data['osm']['way']:    \n",
    "    if not 'tag' in w:\n",
    "        continue\n",
    "    ts=w['tag']    \n",
    "    if not isinstance(ts, list):\n",
    "        ts = [ts]\n",
    "    if not 'highway' in [m['@k'] for m in ts]:\n",
    "        continue\n",
    "    nds=w['nd']    \n",
    "    for i in range(len(nds)-1):\n",
    "        node1=nds[i]['@ref']\n",
    "        node2=nds[i+1]['@ref']\n",
    "        result.append((node1, node2))\n",
    "        result.append((node2, node1))    "
   ]
  },
  {
   "cell_type": "code",
   "execution_count": 59,
   "id": "a6f393c0",
   "metadata": {},
   "outputs": [
    {
     "data": {
      "text/plain": [
       "26098"
      ]
     },
     "execution_count": 59,
     "metadata": {},
     "output_type": "execute_result"
    }
   ],
   "source": [
    "len(result)"
   ]
  },
  {
   "cell_type": "code",
   "execution_count": 64,
   "id": "94d4eae6",
   "metadata": {},
   "outputs": [
    {
     "data": {
      "text/plain": [
       "11640"
      ]
     },
     "execution_count": 64,
     "metadata": {},
     "output_type": "execute_result"
    }
   ],
   "source": [
    "node_id_list=set([v for v, _ in result] + [v for _, v in result])\n",
    "len(node_id_list)"
   ]
  },
  {
   "cell_type": "code",
   "execution_count": 68,
   "id": "d542fd6d",
   "metadata": {},
   "outputs": [
    {
     "data": {
      "text/plain": [
       "11640"
      ]
     },
     "execution_count": 68,
     "metadata": {},
     "output_type": "execute_result"
    }
   ],
   "source": [
    "#get required coordinates \n",
    "ps=[]\n",
    "for node in data['osm']['node']:\n",
    "    node_id=node['@id']\n",
    "    if node_id in node_id_list:\n",
    "        ps.append((node_id, float(node['@lat']), float(node['@lon'])))\n",
    "        \n",
    "len(ps)    "
   ]
  },
  {
   "cell_type": "code",
   "execution_count": 69,
   "id": "a75d195e",
   "metadata": {},
   "outputs": [],
   "source": [
    "with open('bruges_locations.csv', 'w') as node_file:\n",
    "    node_file.write('id,lat,lon\\n')\n",
    "    for id1, lat, lon in ps:\n",
    "        node_file.write(f'{id1},{lat},{lon}\\n')"
   ]
  },
  {
   "cell_type": "code",
   "execution_count": 71,
   "id": "181a3441",
   "metadata": {},
   "outputs": [],
   "source": [
    "with open('bruge_road_segments.csv', 'w') as edge_file:\n",
    "    edge_file.write('src,dst\\n')\n",
    "    for src, dst in result:\n",
    "        edge_file.write(f'{src},{dst}\\n')"
   ]
  }
 ],
 "metadata": {
  "kernelspec": {
   "display_name": "Python 3",
   "language": "python",
   "name": "python3"
  },
  "language_info": {
   "codemirror_mode": {
    "name": "ipython",
    "version": 3
   },
   "file_extension": ".py",
   "mimetype": "text/x-python",
   "name": "python",
   "nbconvert_exporter": "python",
   "pygments_lexer": "ipython3",
   "version": "3.8.8"
  }
 },
 "nbformat": 4,
 "nbformat_minor": 5
}
